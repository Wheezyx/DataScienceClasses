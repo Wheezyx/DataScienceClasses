{
 "cells": [
  {
   "cell_type": "code",
   "execution_count": 9,
   "metadata": {},
   "outputs": [],
   "source": [
    "import numpy as np\n",
    "import pandas as pd\n",
    "\n",
    "def activation_function(x):\n",
    "  if x < 0:\n",
    "    return 0\n",
    "  return 1"
   ]
  },
  {
   "cell_type": "code",
   "execution_count": 10,
   "metadata": {},
   "outputs": [],
   "source": [
    "biasAnd = 1 * -1.5 \n",
    "X1And = 1\n",
    "X2And = 0"
   ]
  },
  {
   "cell_type": "code",
   "execution_count": 21,
   "metadata": {},
   "outputs": [
    {
     "data": {
      "text/html": [
       "<div>\n",
       "<style scoped>\n",
       "    .dataframe tbody tr th:only-of-type {\n",
       "        vertical-align: middle;\n",
       "    }\n",
       "\n",
       "    .dataframe tbody tr th {\n",
       "        vertical-align: top;\n",
       "    }\n",
       "\n",
       "    .dataframe thead th {\n",
       "        text-align: right;\n",
       "    }\n",
       "</style>\n",
       "<table border=\"1\" class=\"dataframe\">\n",
       "  <thead>\n",
       "    <tr style=\"text-align: right;\">\n",
       "      <th></th>\n",
       "      <th>X1</th>\n",
       "      <th>X2</th>\n",
       "      <th>Waga X1</th>\n",
       "      <th>Waga X2</th>\n",
       "      <th>Waga bias</th>\n",
       "      <th>X1 * Waga</th>\n",
       "      <th>X2 * Waga</th>\n",
       "      <th>Wyjście</th>\n",
       "    </tr>\n",
       "  </thead>\n",
       "  <tbody>\n",
       "    <tr>\n",
       "      <td>0</td>\n",
       "      <td>1</td>\n",
       "      <td>0</td>\n",
       "      <td>1</td>\n",
       "      <td>1</td>\n",
       "      <td>-1.5</td>\n",
       "      <td>1</td>\n",
       "      <td>0</td>\n",
       "      <td>0</td>\n",
       "    </tr>\n",
       "  </tbody>\n",
       "</table>\n",
       "</div>"
      ],
      "text/plain": [
       "   X1  X2  Waga X1  Waga X2  Waga bias  X1 * Waga  X2 * Waga  Wyjście\n",
       "0   1   0        1        1       -1.5          1          0        0"
      ]
     },
     "execution_count": 21,
     "metadata": {},
     "output_type": "execute_result"
    }
   ],
   "source": [
    "#AND\n",
    "\n",
    "result = activation_function(biasAnd + X1And + X2And)\n",
    "\n",
    "info_and = pd.DataFrame(data = {'X1' : X1And, 'X2' : X2And, 'Waga X1': 1, \n",
    "                                 'Waga X2': 1, 'Waga bias': -1.5,'X1 * Waga': X1And,\n",
    "                                  'X2 * Waga' : X2And, 'Wyjście' : result}, index=[0])\n",
    "info_and"
   ]
  },
  {
   "cell_type": "code",
   "execution_count": 12,
   "metadata": {},
   "outputs": [],
   "source": [
    "# OR\n",
    "biasOr = 1 * -0.5\n",
    "X1Or = 0\n",
    "X2Or = 0"
   ]
  },
  {
   "cell_type": "code",
   "execution_count": 22,
   "metadata": {},
   "outputs": [
    {
     "data": {
      "text/html": [
       "<div>\n",
       "<style scoped>\n",
       "    .dataframe tbody tr th:only-of-type {\n",
       "        vertical-align: middle;\n",
       "    }\n",
       "\n",
       "    .dataframe tbody tr th {\n",
       "        vertical-align: top;\n",
       "    }\n",
       "\n",
       "    .dataframe thead th {\n",
       "        text-align: right;\n",
       "    }\n",
       "</style>\n",
       "<table border=\"1\" class=\"dataframe\">\n",
       "  <thead>\n",
       "    <tr style=\"text-align: right;\">\n",
       "      <th></th>\n",
       "      <th>X1</th>\n",
       "      <th>X2</th>\n",
       "      <th>Waga X1</th>\n",
       "      <th>Waga X2</th>\n",
       "      <th>Waga bias</th>\n",
       "      <th>X1 * Waga</th>\n",
       "      <th>X2 * Waga</th>\n",
       "      <th>Wyjście</th>\n",
       "    </tr>\n",
       "  </thead>\n",
       "  <tbody>\n",
       "    <tr>\n",
       "      <td>0</td>\n",
       "      <td>0</td>\n",
       "      <td>0</td>\n",
       "      <td>1</td>\n",
       "      <td>1</td>\n",
       "      <td>-0.5</td>\n",
       "      <td>1</td>\n",
       "      <td>0</td>\n",
       "      <td>0</td>\n",
       "    </tr>\n",
       "  </tbody>\n",
       "</table>\n",
       "</div>"
      ],
      "text/plain": [
       "   X1  X2  Waga X1  Waga X2  Waga bias  X1 * Waga  X2 * Waga  Wyjście\n",
       "0   0   0        1        1       -0.5          1          0        0"
      ]
     },
     "execution_count": 22,
     "metadata": {},
     "output_type": "execute_result"
    }
   ],
   "source": [
    "result =  activation_function(biasOr + X1Or + X2Or)\n",
    "\n",
    "info_or = pd.DataFrame(data = {'X1' : X1Or, 'X2' : X2Or, 'Waga X1': 1, \n",
    "                                 'Waga X2': 1, 'Waga bias': -0.5,'X1 * Waga': X1And,\n",
    "                                  'X2 * Waga' : X2And, 'Wyjście' : result}, index=[0])\n",
    "info_or"
   ]
  },
  {
   "cell_type": "code",
   "execution_count": 14,
   "metadata": {},
   "outputs": [],
   "source": [
    "#NOT\n",
    "biasNot = 1\n",
    "X1 = 1\n",
    "X1WithWeigth = -2 * X1"
   ]
  },
  {
   "cell_type": "code",
   "execution_count": 25,
   "metadata": {},
   "outputs": [
    {
     "data": {
      "text/html": [
       "<div>\n",
       "<style scoped>\n",
       "    .dataframe tbody tr th:only-of-type {\n",
       "        vertical-align: middle;\n",
       "    }\n",
       "\n",
       "    .dataframe tbody tr th {\n",
       "        vertical-align: top;\n",
       "    }\n",
       "\n",
       "    .dataframe thead th {\n",
       "        text-align: right;\n",
       "    }\n",
       "</style>\n",
       "<table border=\"1\" class=\"dataframe\">\n",
       "  <thead>\n",
       "    <tr style=\"text-align: right;\">\n",
       "      <th></th>\n",
       "      <th>X1</th>\n",
       "      <th>Waga X1</th>\n",
       "      <th>Waga bias</th>\n",
       "      <th>X1 * Waga</th>\n",
       "      <th>Wyjście</th>\n",
       "    </tr>\n",
       "  </thead>\n",
       "  <tbody>\n",
       "    <tr>\n",
       "      <td>0</td>\n",
       "      <td>0</td>\n",
       "      <td>-2</td>\n",
       "      <td>1</td>\n",
       "      <td>-2</td>\n",
       "      <td>0</td>\n",
       "    </tr>\n",
       "  </tbody>\n",
       "</table>\n",
       "</div>"
      ],
      "text/plain": [
       "   X1  Waga X1  Waga bias  X1 * Waga  Wyjście\n",
       "0   0       -2          1         -2        0"
      ]
     },
     "execution_count": 25,
     "metadata": {},
     "output_type": "execute_result"
    }
   ],
   "source": [
    "result = activation_function(biasNot + X1WithWeigth)\n",
    "info_not = pd.DataFrame(data = {'X1' : X1, 'Waga X1': -2, \n",
    "                                 'Waga bias': 1,'X1 * Waga': X1WithWeigth,\n",
    "                                  'Wyjście' : result}, index=[0])\n",
    "info_not"
   ]
  },
  {
   "cell_type": "code",
   "execution_count": 28,
   "metadata": {},
   "outputs": [
    {
     "data": {
      "text/html": [
       "<div>\n",
       "<style scoped>\n",
       "    .dataframe tbody tr th:only-of-type {\n",
       "        vertical-align: middle;\n",
       "    }\n",
       "\n",
       "    .dataframe tbody tr th {\n",
       "        vertical-align: top;\n",
       "    }\n",
       "\n",
       "    .dataframe thead th {\n",
       "        text-align: right;\n",
       "    }\n",
       "</style>\n",
       "<table border=\"1\" class=\"dataframe\">\n",
       "  <thead>\n",
       "    <tr style=\"text-align: right;\">\n",
       "      <th></th>\n",
       "      <th>X1</th>\n",
       "      <th>X2</th>\n",
       "      <th>Waga X1 1 neuron 1 warstwa</th>\n",
       "      <th>Waga X2 1 neuron 1 warstwa</th>\n",
       "      <th>Waga bias 1 neuron 1 warstwa</th>\n",
       "      <th>Waga X1 2 neuron 1 warstwa</th>\n",
       "      <th>Waga X2 2 neuron 1 warstwa</th>\n",
       "      <th>Waga bias 2 neuron 1 warstwa</th>\n",
       "      <th>X1 * Waga 1 neuron</th>\n",
       "      <th>X2 * Waga 1 neuron</th>\n",
       "      <th>X1 * Waga 2 neuron</th>\n",
       "      <th>X2 * Waga 2 neuron</th>\n",
       "      <th>Wartosc funkcji neuron 1</th>\n",
       "      <th>Wartosc funkcji neuron 2</th>\n",
       "      <th>Wagi 3 neuronu</th>\n",
       "      <th>Waga bias 2 wartwa</th>\n",
       "      <th>Wynik całkowity (3 neuron)</th>\n",
       "    </tr>\n",
       "  </thead>\n",
       "  <tbody>\n",
       "    <tr>\n",
       "      <td>0</td>\n",
       "      <td>0</td>\n",
       "      <td>0</td>\n",
       "      <td>-1</td>\n",
       "      <td>-1</td>\n",
       "      <td>0.5</td>\n",
       "      <td>-1.5</td>\n",
       "      <td>1</td>\n",
       "      <td>-1.5</td>\n",
       "      <td>0</td>\n",
       "      <td>0</td>\n",
       "      <td>0</td>\n",
       "      <td>0</td>\n",
       "      <td>1</td>\n",
       "      <td>0</td>\n",
       "      <td>Obie 1</td>\n",
       "      <td>-0.5</td>\n",
       "      <td>1</td>\n",
       "    </tr>\n",
       "  </tbody>\n",
       "</table>\n",
       "</div>"
      ],
      "text/plain": [
       "   X1  X2  Waga X1 1 neuron 1 warstwa  Waga X2 1 neuron 1 warstwa  \\\n",
       "0   0   0                          -1                          -1   \n",
       "\n",
       "   Waga bias 1 neuron 1 warstwa  Waga X1 2 neuron 1 warstwa  \\\n",
       "0                           0.5                        -1.5   \n",
       "\n",
       "   Waga X2 2 neuron 1 warstwa  Waga bias 2 neuron 1 warstwa  \\\n",
       "0                           1                          -1.5   \n",
       "\n",
       "   X1 * Waga 1 neuron  X2 * Waga 1 neuron  X1 * Waga 2 neuron  \\\n",
       "0                   0                   0                   0   \n",
       "\n",
       "   X2 * Waga 2 neuron  Wartosc funkcji neuron 1  Wartosc funkcji neuron 2  \\\n",
       "0                   0                         1                         0   \n",
       "\n",
       "  Wagi 3 neuronu  Waga bias 2 wartwa  Wynik całkowity (3 neuron)  \n",
       "0         Obie 1                -0.5                           1  "
      ]
     },
     "execution_count": 28,
     "metadata": {},
     "output_type": "execute_result"
    }
   ],
   "source": [
    "# XNOR\n",
    "X1 = 0\n",
    "X2 = 0\n",
    "neuron11 = activation_function(1 * 0.5 + X1 * -1 + X2 * -1)\n",
    "neuron12 = activation_function(1 * -1.5 + X1 * 1 + X2 * 1)\n",
    "\n",
    "neuron2 = activation_function(1 * -0.5 + neuron11 + neuron12)\n",
    "info_xnor = pd.DataFrame(data = {'X1' : X1, 'X2' : X2, 'Waga X1 1 neuron 1 warstwa': -1, \n",
    "                                'Waga X2 1 neuron 1 warstwa': -1, 'Waga bias 1 neuron 1 warstwa': 0.5, \n",
    "                                'Waga X1 2 neuron 1 warstwa': -1.5,'Waga X2 2 neuron 1 warstwa': 1, 'Waga bias 2 neuron 1 warstwa': -1.5,\n",
    "                                'X1 * Waga 1 neuron': X1 * -1, 'X2 * Waga 1 neuron' : X2 * -1, \n",
    "                                'X1 * Waga 2 neuron': X1 * 1, 'X2 * Waga 2 neuron' : X2 * 1, \n",
    "                                'Wartosc funkcji neuron 1' : neuron11, 'Wartosc funkcji neuron 2': neuron12,\n",
    "                                'Wagi 3 neuronu': 'Obie 1', 'Waga bias 2 wartwa': -0.5,\n",
    "                                'Wynik całkowity (3 neuron)': neuron2}, index=[0])\n",
    "info_xnor\n"
   ]
  },
  {
   "cell_type": "code",
   "execution_count": 18,
   "metadata": {},
   "outputs": [
    {
     "name": "stdout",
     "output_type": "stream",
     "text": [
      "Wagi bias pierwszej warstwy: -10 dla pierwszego neuronu oraz -10 dla drugiego\n",
      "Wagi X1 i X2 dla pierwszego neuronu pierwszej warstwy: 20 oraz -20\n",
      "Wagi X1 i X2 dla drugiego neuronu pierwszej warstwy: -20 oraz 20\n",
      "Wagi bias dla neuronu w drugiej warstwie: -30. Wagi wejść, obie po 20\n",
      "0\n"
     ]
    },
    {
     "data": {
      "text/plain": [
       "0"
      ]
     },
     "execution_count": 18,
     "metadata": {},
     "output_type": "execute_result"
    }
   ],
   "source": [
    "# XOR\n",
    "X1 = 0\n",
    "X2 = 1\n",
    "neuron11 = activation_function(-10 + X1 * 20 + -20 * X2)\n",
    "neuron12 = activation_function(-10 + X1 * -20 + X2 * 20)\n",
    "neuron2 = activation_function(-30 + neuron11 * 20 + neuron12 + 20)\n",
    "print('Wagi bias pierwszej warstwy: -10 dla pierwszego neuronu oraz -10 dla drugiego')\n",
    "print('Wagi X1 i X2 dla pierwszego neuronu pierwszej warstwy: 20 oraz -20')\n",
    "print('Wagi X1 i X2 dla drugiego neuronu pierwszej warstwy: -20 oraz 20')\n",
    "print('Wagi bias dla neuronu w drugiej warstwie: -30. Wagi wejść, obie po 20')\n",
    "neuron2"
   ]
  },
  {
   "cell_type": "code",
   "execution_count": null,
   "metadata": {},
   "outputs": [],
   "source": []
  }
 ],
 "metadata": {
  "kernelspec": {
   "display_name": "Python 3",
   "language": "python",
   "name": "python3"
  },
  "language_info": {
   "codemirror_mode": {
    "name": "ipython",
    "version": 3
   },
   "file_extension": ".py",
   "mimetype": "text/x-python",
   "name": "python",
   "nbconvert_exporter": "python",
   "pygments_lexer": "ipython3",
   "version": "3.6.6"
  }
 },
 "nbformat": 4,
 "nbformat_minor": 2
}
