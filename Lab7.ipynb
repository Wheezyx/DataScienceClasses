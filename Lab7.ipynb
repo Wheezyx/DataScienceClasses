{
 "cells": [
  {
   "cell_type": "code",
   "execution_count": 22,
   "metadata": {},
   "outputs": [],
   "source": [
    "import numpy as np\n",
    "import pandas as pd\n",
    "from IPython.display import display, HTML\n",
    "\n",
    "def activation_function(x):\n",
    "  if x < 0:\n",
    "    return 0\n",
    "  return 1"
   ]
  },
  {
   "cell_type": "code",
   "execution_count": 4,
   "metadata": {},
   "outputs": [],
   "source": [
    "biasAnd = 1 * -1.5 \n"
   ]
  },
  {
   "cell_type": "code",
   "execution_count": 6,
   "metadata": {},
   "outputs": [
    {
     "name": "stdout",
     "output_type": "stream",
     "text": [
      "   X1  X2  Waga X1  Waga X2  Waga bias  X1 * Waga  X2 * Waga  Wyjście\n",
      "0   0   0        1        1       -1.5          0          0        0\n",
      "   X1  X2  Waga X1  Waga X2  Waga bias  X1 * Waga  X2 * Waga  Wyjście\n",
      "0   0   1        1        1       -1.5          0          1        0\n",
      "   X1  X2  Waga X1  Waga X2  Waga bias  X1 * Waga  X2 * Waga  Wyjście\n",
      "0   1   0        1        1       -1.5          1          0        0\n",
      "   X1  X2  Waga X1  Waga X2  Waga bias  X1 * Waga  X2 * Waga  Wyjście\n",
      "0   1   1        1        1       -1.5          1          1        1\n"
     ]
    }
   ],
   "source": [
    "#AND\n",
    "\n",
    "inputs = [[0,0], [0,1], [1,0], [1,1]]\n",
    "for input in inputs:\n",
    "    result = activation_function(biasAnd + input[0] + input[1])\n",
    "    info_and = pd.DataFrame(data = {'X1' : input[0], 'X2' : input[1], 'Waga X1': 1, \n",
    "                                 'Waga X2': 1, 'Waga bias': -1.5,'X1 * Waga': input[0],\n",
    "                                  'X2 * Waga' : input[1], 'Wyjście' : result}, index=[0])\n",
    "    print(info_and)"
   ]
  },
  {
   "cell_type": "code",
   "execution_count": 9,
   "metadata": {},
   "outputs": [],
   "source": [
    "# OR\n",
    "biasOr = 1 * -0.5"
   ]
  },
  {
   "cell_type": "code",
   "execution_count": 10,
   "metadata": {},
   "outputs": [
    {
     "name": "stdout",
     "output_type": "stream",
     "text": [
      "   X1  X2  Waga X1  Waga X2  Waga bias  X1 * Waga  X2 * Waga  Wyjście\n",
      "0   0   0        1        1       -0.5          0          0        0\n",
      "   X1  X2  Waga X1  Waga X2  Waga bias  X1 * Waga  X2 * Waga  Wyjście\n",
      "0   0   1        1        1       -0.5          0          1        1\n",
      "   X1  X2  Waga X1  Waga X2  Waga bias  X1 * Waga  X2 * Waga  Wyjście\n",
      "0   1   0        1        1       -0.5          1          0        1\n",
      "   X1  X2  Waga X1  Waga X2  Waga bias  X1 * Waga  X2 * Waga  Wyjście\n",
      "0   1   1        1        1       -0.5          1          1        1\n"
     ]
    }
   ],
   "source": [
    "for input in inputs:\n",
    "    result =  activation_function(biasOr + input[0] + input[1])\n",
    "    info_or = pd.DataFrame(data = {'X1' : input[0], 'X2' : input[1], 'Waga X1': 1, \n",
    "                                 'Waga X2': 1, 'Waga bias': -0.5,'X1 * Waga': input[0],\n",
    "                                  'X2 * Waga' : input[1], 'Wyjście' : result}, index=[0])\n",
    "    print(info_or)"
   ]
  },
  {
   "cell_type": "code",
   "execution_count": 12,
   "metadata": {},
   "outputs": [],
   "source": [
    "#NOT\n",
    "biasNot = 1"
   ]
  },
  {
   "cell_type": "code",
   "execution_count": 14,
   "metadata": {},
   "outputs": [
    {
     "name": "stdout",
     "output_type": "stream",
     "text": [
      "   X1  Waga X1  Waga bias  X1 * Waga  Wyjście\n",
      "0   0       -2          1          0        1\n",
      "   X1  Waga X1  Waga bias  X1 * Waga  Wyjście\n",
      "0   1       -2          1         -2        0\n"
     ]
    }
   ],
   "source": [
    "input_not = [0,1]\n",
    "for input in input_not:\n",
    "    X1WithWeigth = -2 * input\n",
    "    result = activation_function(biasNot + X1WithWeigth)\n",
    "    info_not = pd.DataFrame(data = {'X1' : input, 'Waga X1': -2, \n",
    "                                 'Waga bias': 1,'X1 * Waga': X1WithWeigth,\n",
    "                                  'Wyjście' : result}, index=[0])\n",
    "    print(info_not)"
   ]
  },
  {
   "cell_type": "code",
   "execution_count": 24,
   "metadata": {},
   "outputs": [
    {
     "data": {
      "text/html": [
       "<table border=\"1\" class=\"dataframe\">\n",
       "  <thead>\n",
       "    <tr style=\"text-align: right;\">\n",
       "      <th></th>\n",
       "      <th>X1</th>\n",
       "      <th>X2</th>\n",
       "      <th>Waga X1 1 neuron 1 warstwa</th>\n",
       "      <th>Waga X2 1 neuron 1 warstwa</th>\n",
       "      <th>Waga bias 1 neuron 1 warstwa</th>\n",
       "      <th>Waga X1 2 neuron 1 warstwa</th>\n",
       "      <th>Waga X2 2 neuron 1 warstwa</th>\n",
       "      <th>Waga bias 2 neuron 1 warstwa</th>\n",
       "      <th>X1 * Waga 1 neuron</th>\n",
       "      <th>X2 * Waga 1 neuron</th>\n",
       "      <th>X1 * Waga 2 neuron</th>\n",
       "      <th>X2 * Waga 2 neuron</th>\n",
       "      <th>Wartosc funkcji neuron 1</th>\n",
       "      <th>Wartosc funkcji neuron 2</th>\n",
       "      <th>Wagi 3 neuronu</th>\n",
       "      <th>Waga bias 2 wartwa</th>\n",
       "      <th>Wynik całkowity (3 neuron)</th>\n",
       "    </tr>\n",
       "  </thead>\n",
       "  <tbody>\n",
       "    <tr>\n",
       "      <th>0</th>\n",
       "      <td>0</td>\n",
       "      <td>0</td>\n",
       "      <td>-1</td>\n",
       "      <td>-1</td>\n",
       "      <td>0.5</td>\n",
       "      <td>-1.5</td>\n",
       "      <td>1</td>\n",
       "      <td>-1.5</td>\n",
       "      <td>0</td>\n",
       "      <td>0</td>\n",
       "      <td>0</td>\n",
       "      <td>0</td>\n",
       "      <td>1</td>\n",
       "      <td>0</td>\n",
       "      <td>Obie 1</td>\n",
       "      <td>-0.5</td>\n",
       "      <td>1</td>\n",
       "    </tr>\n",
       "  </tbody>\n",
       "</table>"
      ],
      "text/plain": [
       "<IPython.core.display.HTML object>"
      ]
     },
     "metadata": {},
     "output_type": "display_data"
    },
    {
     "data": {
      "text/html": [
       "<table border=\"1\" class=\"dataframe\">\n",
       "  <thead>\n",
       "    <tr style=\"text-align: right;\">\n",
       "      <th></th>\n",
       "      <th>X1</th>\n",
       "      <th>X2</th>\n",
       "      <th>Waga X1 1 neuron 1 warstwa</th>\n",
       "      <th>Waga X2 1 neuron 1 warstwa</th>\n",
       "      <th>Waga bias 1 neuron 1 warstwa</th>\n",
       "      <th>Waga X1 2 neuron 1 warstwa</th>\n",
       "      <th>Waga X2 2 neuron 1 warstwa</th>\n",
       "      <th>Waga bias 2 neuron 1 warstwa</th>\n",
       "      <th>X1 * Waga 1 neuron</th>\n",
       "      <th>X2 * Waga 1 neuron</th>\n",
       "      <th>X1 * Waga 2 neuron</th>\n",
       "      <th>X2 * Waga 2 neuron</th>\n",
       "      <th>Wartosc funkcji neuron 1</th>\n",
       "      <th>Wartosc funkcji neuron 2</th>\n",
       "      <th>Wagi 3 neuronu</th>\n",
       "      <th>Waga bias 2 wartwa</th>\n",
       "      <th>Wynik całkowity (3 neuron)</th>\n",
       "    </tr>\n",
       "  </thead>\n",
       "  <tbody>\n",
       "    <tr>\n",
       "      <th>0</th>\n",
       "      <td>0</td>\n",
       "      <td>1</td>\n",
       "      <td>-1</td>\n",
       "      <td>-1</td>\n",
       "      <td>0.5</td>\n",
       "      <td>-1.5</td>\n",
       "      <td>1</td>\n",
       "      <td>-1.5</td>\n",
       "      <td>0</td>\n",
       "      <td>-1</td>\n",
       "      <td>0</td>\n",
       "      <td>1</td>\n",
       "      <td>0</td>\n",
       "      <td>0</td>\n",
       "      <td>Obie 1</td>\n",
       "      <td>-0.5</td>\n",
       "      <td>0</td>\n",
       "    </tr>\n",
       "  </tbody>\n",
       "</table>"
      ],
      "text/plain": [
       "<IPython.core.display.HTML object>"
      ]
     },
     "metadata": {},
     "output_type": "display_data"
    },
    {
     "data": {
      "text/html": [
       "<table border=\"1\" class=\"dataframe\">\n",
       "  <thead>\n",
       "    <tr style=\"text-align: right;\">\n",
       "      <th></th>\n",
       "      <th>X1</th>\n",
       "      <th>X2</th>\n",
       "      <th>Waga X1 1 neuron 1 warstwa</th>\n",
       "      <th>Waga X2 1 neuron 1 warstwa</th>\n",
       "      <th>Waga bias 1 neuron 1 warstwa</th>\n",
       "      <th>Waga X1 2 neuron 1 warstwa</th>\n",
       "      <th>Waga X2 2 neuron 1 warstwa</th>\n",
       "      <th>Waga bias 2 neuron 1 warstwa</th>\n",
       "      <th>X1 * Waga 1 neuron</th>\n",
       "      <th>X2 * Waga 1 neuron</th>\n",
       "      <th>X1 * Waga 2 neuron</th>\n",
       "      <th>X2 * Waga 2 neuron</th>\n",
       "      <th>Wartosc funkcji neuron 1</th>\n",
       "      <th>Wartosc funkcji neuron 2</th>\n",
       "      <th>Wagi 3 neuronu</th>\n",
       "      <th>Waga bias 2 wartwa</th>\n",
       "      <th>Wynik całkowity (3 neuron)</th>\n",
       "    </tr>\n",
       "  </thead>\n",
       "  <tbody>\n",
       "    <tr>\n",
       "      <th>0</th>\n",
       "      <td>1</td>\n",
       "      <td>0</td>\n",
       "      <td>-1</td>\n",
       "      <td>-1</td>\n",
       "      <td>0.5</td>\n",
       "      <td>-1.5</td>\n",
       "      <td>1</td>\n",
       "      <td>-1.5</td>\n",
       "      <td>-1</td>\n",
       "      <td>0</td>\n",
       "      <td>1</td>\n",
       "      <td>0</td>\n",
       "      <td>0</td>\n",
       "      <td>0</td>\n",
       "      <td>Obie 1</td>\n",
       "      <td>-0.5</td>\n",
       "      <td>0</td>\n",
       "    </tr>\n",
       "  </tbody>\n",
       "</table>"
      ],
      "text/plain": [
       "<IPython.core.display.HTML object>"
      ]
     },
     "metadata": {},
     "output_type": "display_data"
    },
    {
     "data": {
      "text/html": [
       "<table border=\"1\" class=\"dataframe\">\n",
       "  <thead>\n",
       "    <tr style=\"text-align: right;\">\n",
       "      <th></th>\n",
       "      <th>X1</th>\n",
       "      <th>X2</th>\n",
       "      <th>Waga X1 1 neuron 1 warstwa</th>\n",
       "      <th>Waga X2 1 neuron 1 warstwa</th>\n",
       "      <th>Waga bias 1 neuron 1 warstwa</th>\n",
       "      <th>Waga X1 2 neuron 1 warstwa</th>\n",
       "      <th>Waga X2 2 neuron 1 warstwa</th>\n",
       "      <th>Waga bias 2 neuron 1 warstwa</th>\n",
       "      <th>X1 * Waga 1 neuron</th>\n",
       "      <th>X2 * Waga 1 neuron</th>\n",
       "      <th>X1 * Waga 2 neuron</th>\n",
       "      <th>X2 * Waga 2 neuron</th>\n",
       "      <th>Wartosc funkcji neuron 1</th>\n",
       "      <th>Wartosc funkcji neuron 2</th>\n",
       "      <th>Wagi 3 neuronu</th>\n",
       "      <th>Waga bias 2 wartwa</th>\n",
       "      <th>Wynik całkowity (3 neuron)</th>\n",
       "    </tr>\n",
       "  </thead>\n",
       "  <tbody>\n",
       "    <tr>\n",
       "      <th>0</th>\n",
       "      <td>1</td>\n",
       "      <td>1</td>\n",
       "      <td>-1</td>\n",
       "      <td>-1</td>\n",
       "      <td>0.5</td>\n",
       "      <td>-1.5</td>\n",
       "      <td>1</td>\n",
       "      <td>-1.5</td>\n",
       "      <td>-1</td>\n",
       "      <td>-1</td>\n",
       "      <td>1</td>\n",
       "      <td>1</td>\n",
       "      <td>0</td>\n",
       "      <td>1</td>\n",
       "      <td>Obie 1</td>\n",
       "      <td>-0.5</td>\n",
       "      <td>1</td>\n",
       "    </tr>\n",
       "  </tbody>\n",
       "</table>"
      ],
      "text/plain": [
       "<IPython.core.display.HTML object>"
      ]
     },
     "metadata": {},
     "output_type": "display_data"
    }
   ],
   "source": [
    "# XNOR\n",
    "for input in inputs:\n",
    "    neuron11 = activation_function(1 * 0.5 + input[0] * -1 + input[1] * -1)\n",
    "    neuron12 = activation_function(1 * -1.5 + input[0] * 1 + input[1] * 1)\n",
    "\n",
    "    neuron2 = activation_function(1 * -0.5 + neuron11 + neuron12)\n",
    "    info_xnor = pd.DataFrame(data = {'X1' : input[0], 'X2' : input[1], 'Waga X1 1 neuron 1 warstwa': -1, \n",
    "                                'Waga X2 1 neuron 1 warstwa': -1, 'Waga bias 1 neuron 1 warstwa': 0.5, \n",
    "                                'Waga X1 2 neuron 1 warstwa': -1.5,'Waga X2 2 neuron 1 warstwa': 1, 'Waga bias 2 neuron 1 warstwa': -1.5,\n",
    "                                'X1 * Waga 1 neuron': input[0] * -1, 'X2 * Waga 1 neuron' : input[1] * -1, \n",
    "                                'X1 * Waga 2 neuron': input[0] * 1, 'X2 * Waga 2 neuron' : input[1] * 1, \n",
    "                                'Wartosc funkcji neuron 1' : neuron11, 'Wartosc funkcji neuron 2': neuron12,\n",
    "                                'Wagi 3 neuronu': 'Obie 1', 'Waga bias 2 wartwa': -0.5,\n",
    "                                'Wynik całkowity (3 neuron)': neuron2}, index=[0])\n",
    "    display(HTML(info_xnor.to_html()))\n"
   ]
  },
  {
   "cell_type": "code",
   "execution_count": 36,
   "metadata": {},
   "outputs": [
    {
     "name": "stdout",
     "output_type": "stream",
     "text": [
      "Wagi bias pierwszej warstwy: -10 dla pierwszego neuronu oraz 30 dla drugiego\n",
      "Wagi X1 i X2 dla pierwszego neuronu pierwszej warstwy: 20 oraz 20\n",
      "Wagi X1 i X2 dla drugiego neuronu pierwszej warstwy: -20 oraz -20\n",
      "Wagi bias dla neuronu w drugiej warstwie: -30. Wagi wejść, obie po 20\n",
      "Wynik: 0\n",
      "Wagi bias pierwszej warstwy: -10 dla pierwszego neuronu oraz 30 dla drugiego\n",
      "Wagi X1 i X2 dla pierwszego neuronu pierwszej warstwy: 20 oraz 20\n",
      "Wagi X1 i X2 dla drugiego neuronu pierwszej warstwy: -20 oraz -20\n",
      "Wagi bias dla neuronu w drugiej warstwie: -30. Wagi wejść, obie po 20\n",
      "Wynik: 1\n",
      "Wagi bias pierwszej warstwy: -10 dla pierwszego neuronu oraz 30 dla drugiego\n",
      "Wagi X1 i X2 dla pierwszego neuronu pierwszej warstwy: 20 oraz 20\n",
      "Wagi X1 i X2 dla drugiego neuronu pierwszej warstwy: -20 oraz -20\n",
      "Wagi bias dla neuronu w drugiej warstwie: -30. Wagi wejść, obie po 20\n",
      "Wynik: 1\n",
      "Wagi bias pierwszej warstwy: -10 dla pierwszego neuronu oraz 30 dla drugiego\n",
      "Wagi X1 i X2 dla pierwszego neuronu pierwszej warstwy: 20 oraz 20\n",
      "Wagi X1 i X2 dla drugiego neuronu pierwszej warstwy: -20 oraz -20\n",
      "Wagi bias dla neuronu w drugiej warstwie: -30. Wagi wejść, obie po 20\n",
      "Wynik: 0\n"
     ]
    }
   ],
   "source": [
    "# XOR\n",
    "for input in inputs:\n",
    "    X1 = input[0]\n",
    "    X2 = input[1]\n",
    "    neuron11 = activation_function(-10 + X1 * 20 + 20 * X2)\n",
    "    neuron12 = activation_function(30 + X1 * -20 + X2 * -20)\n",
    "    neuron2 = activation_function(-30 + neuron11 * 20 + neuron12 * 20)\n",
    "    print('Wagi bias pierwszej warstwy: -10 dla pierwszego neuronu oraz 30 dla drugiego')\n",
    "    print('Wagi X1 i X2 dla pierwszego neuronu pierwszej warstwy: 20 oraz 20')\n",
    "    print('Wagi X1 i X2 dla drugiego neuronu pierwszej warstwy: -20 oraz -20')\n",
    "    print('Wagi bias dla neuronu w drugiej warstwie: -30. Wagi wejść, obie po 20')\n",
    "    print('Wynik: ' + str(neuron2))"
   ]
  },
  {
   "cell_type": "code",
   "execution_count": null,
   "metadata": {},
   "outputs": [],
   "source": []
  },
  {
   "cell_type": "code",
   "execution_count": null,
   "metadata": {},
   "outputs": [],
   "source": []
  }
 ],
 "metadata": {
  "kernelspec": {
   "display_name": "Python 3",
   "language": "python",
   "name": "python3"
  },
  "language_info": {
   "codemirror_mode": {
    "name": "ipython",
    "version": 3
   },
   "file_extension": ".py",
   "mimetype": "text/x-python",
   "name": "python",
   "nbconvert_exporter": "python",
   "pygments_lexer": "ipython3",
   "version": "3.6.6"
  }
 },
 "nbformat": 4,
 "nbformat_minor": 2
}
