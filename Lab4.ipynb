{
 "cells": [
  {
   "cell_type": "code",
   "execution_count": 36,
   "metadata": {},
   "outputs": [],
   "source": [
    "import requests\n",
    "from bs4 import BeautifulSoup\n",
    "from openpyxl import Workbook\n",
    "from random import choice\n",
    "from string import ascii_lowercase\n",
    "import re"
   ]
  },
  {
   "cell_type": "code",
   "execution_count": 37,
   "metadata": {},
   "outputs": [],
   "source": [
    "wb = Workbook()\n",
    "ws1 = wb.create_sheet('Giełda')\n",
    "ws2 = wb.create_sheet('Linki')\n",
    "ws3 = wb.create_sheet('Filmweb')"
   ]
  },
  {
   "cell_type": "code",
   "execution_count": 38,
   "metadata": {},
   "outputs": [
    {
     "name": "stdout",
     "output_type": "stream",
     "text": [
      "nfb\n",
      "Znaleziono kod podobny: nfbk.us\n",
      "jzo\n",
      "Kod ani zaden podobny jemu nie zostal znaleziony.\n",
      "nhh\n",
      "Kod ani zaden podobny jemu nie zostal znaleziony.\n",
      "wfk\n",
      "Kod ani zaden podobny jemu nie zostal znaleziony.\n",
      "geo\n",
      "Znaleziono kod podobny: geo.uk\n",
      "nfbk.us\n",
      "17.11, (+1.12%), 539\n",
      "geo.uk\n",
      "1.375, (0.00%), 1\n"
     ]
    }
   ],
   "source": [
    "def generateString(n):\n",
    "    return \"\".join(choice(ascii_lowercase) for i in range(n))\n",
    "codes = [generateString(3) for _ in range(5)]\n",
    "s = requests.Session()\n",
    "valid_codes = []\n",
    "for code in codes:\n",
    "    print(code)\n",
    "    params = {\"s\": code}\n",
    "    response = requests.get(\"http://stooq.pl/q/\", params=params)\n",
    "    soup = BeautifulSoup(response.content, 'html.parser')\n",
    "    if len(soup.body.findAll('span', id='c2')) != 0:\n",
    "        link_content = soup.find('font',id='f16').find('a',href=True)\n",
    "        if link_content.text == 'symbol waloru':\n",
    "            print(\"Kod ani zaden podobny jemu nie zostal znaleziony.\")\n",
    "        else:\n",
    "            valid_code = link_content['href'][5:]\n",
    "            valid_codes.append(valid_code)\n",
    "            print(f'Znaleziono kod podobny: {valid_code}')\n",
    "    else:\n",
    "        valid_codes.append(code)\n",
    "\n",
    "        \n",
    "ws1.cell(row=1, column=1).value = 'Kod'\n",
    "ws1.cell(row=1, column=2).value = 'Kurs'\n",
    "ws1.cell(row=1, column=3).value = 'Zmiana procentowa'\n",
    "ws1.cell(row=1, column=4).value = 'Transakcje'\n",
    "row = 2\n",
    "for code in valid_codes:\n",
    "    print(code)\n",
    "    params = {\"s\": code}\n",
    "    response = requests.get(\"http://stooq.pl/q/\", params=params)\n",
    "    soup = BeautifulSoup(response.content, 'html.parser')\n",
    "    price = soup.find(text=\"Kurs\").parent.find(\"span\").text\n",
    "    percent_change = soup.find(text=\"Zmiana\").parent.findAll(\"span\")[1].text\n",
    "    transactions = soup.find(text=\"Transakcje\").parent.find(\"span\").text\n",
    "    print(f\"{price}, {percent_change}, {transactions}\")\n",
    "    ws1.cell(row=row, column=1).value = code\n",
    "    ws1.cell(row=row, column=2).value = price if price else 'Brak danych'\n",
    "    ws1.cell(row=row, column=3).value =  percent_change if percent_change else 'Brak danych'\n",
    "    ws1.cell(row=row, column=4).value =  transactions if transactions else 'Brak danych'\n",
    "    row += 1"
   ]
  },
  {
   "cell_type": "code",
   "execution_count": 39,
   "metadata": {},
   "outputs": [],
   "source": [
    "url = \"https://www.baeldung.com/\"\n",
    "req = requests.get(url)\n",
    "links = set()\n",
    "soup = BeautifulSoup(req.content, 'html.parser')\n",
    "for atag in soup.find_all(\"a\"):\n",
    "    link = atag.get('href')\n",
    "    if (link.find('https://www.baeldung.com') == -1):\n",
    "        link = 'https://www.baeldung.com' + link\n",
    "    links.add(link)\n",
    "\n",
    "row = 1\n",
    "for link in links:\n",
    "    ws2.cell(row,column=1).value = link\n",
    "    row +=1\n"
   ]
  },
  {
   "cell_type": "code",
   "execution_count": 40,
   "metadata": {},
   "outputs": [],
   "source": [
    "url = \"https://www.filmweb.pl/Powrot.Krola\"\n",
    "req = requests.get(url)\n",
    "soup = BeautifulSoup(req.content, 'html.parser')\n",
    "\n",
    "filmweb = {}\n",
    "filmweb['Director'] = soup.find(text=\"reżyseria:\").next_element.find(\"a\").text\n",
    "filmweb['Year'] = soup.find(\"h1\", class_=\"filmTitle\").find('span').text[1:5]\n",
    "boxoffice = soup.find(text=\"boxoffice:\").next_element.text\n",
    "filmweb['BoxOffice']  = re.sub(r'(top #\\d+)', '', boxoffice)\n",
    "filmweb['Raiting'] = soup.find(\"span\", itemprop=\"ratingValue\").text\n",
    "\n",
    "row = 1\n",
    "for key, value in filmweb.items():\n",
    "    ws3.cell(row,column=1).value = key\n",
    "    ws3.cell(row,column=2).value = value\n",
    "    row += 1"
   ]
  },
  {
   "cell_type": "code",
   "execution_count": 41,
   "metadata": {},
   "outputs": [],
   "source": [
    "wb.save('lab4.xlsx')"
   ]
  },
  {
   "cell_type": "code",
   "execution_count": null,
   "metadata": {},
   "outputs": [],
   "source": []
  }
 ],
 "metadata": {
  "kernelspec": {
   "display_name": "Python 3",
   "language": "python",
   "name": "python3"
  },
  "language_info": {
   "codemirror_mode": {
    "name": "ipython",
    "version": 3
   },
   "file_extension": ".py",
   "mimetype": "text/x-python",
   "name": "python",
   "nbconvert_exporter": "python",
   "pygments_lexer": "ipython3",
   "version": "3.6.6"
  }
 },
 "nbformat": 4,
 "nbformat_minor": 2
}
